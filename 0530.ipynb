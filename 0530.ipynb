{
  "nbformat": 4,
  "nbformat_minor": 0,
  "metadata": {
    "colab": {
      "name": "0530.ipynb",
      "provenance": [],
      "authorship_tag": "ABX9TyM8PXLLUhrmAxgfWMP4nPHV",
      "include_colab_link": true
    },
    "kernelspec": {
      "name": "python3",
      "display_name": "Python 3"
    },
    "language_info": {
      "name": "python"
    }
  },
  "cells": [
    {
      "cell_type": "markdown",
      "metadata": {
        "id": "view-in-github",
        "colab_type": "text"
      },
      "source": [
        "<a href=\"https://colab.research.google.com/github/rosalindyu/Introduction-to-Computers/blob/main/0530.ipynb\" target=\"_parent\"><img src=\"https://colab.research.google.com/assets/colab-badge.svg\" alt=\"Open In Colab\"/></a>"
      ]
    },
    {
      "cell_type": "code",
      "execution_count": 1,
      "metadata": {
        "colab": {
          "base_uri": "https://localhost:8080/"
        },
        "id": "ALfc8C-2rx9o",
        "outputId": "0b03533d-17aa-45ea-a94d-4af479c1cd23"
      },
      "outputs": [
        {
          "output_type": "stream",
          "name": "stdout",
          "text": [
            "0530\n"
          ]
        }
      ],
      "source": [
        "print(\"0530\")"
      ]
    },
    {
      "cell_type": "markdown",
      "source": [
        "九九乘法"
      ],
      "metadata": {
        "id": "tIznN18RTG8o"
      }
    },
    {
      "cell_type": "code",
      "source": [
        "for i in range(2,10):\n",
        "  for j in range(1,10):\n",
        "    product = i*j\n",
        "    print(\"%d*%d=%2d  \"%(i,j,product),end=\"\")\n",
        "  print()"
      ],
      "metadata": {
        "colab": {
          "base_uri": "https://localhost:8080/"
        },
        "id": "KJT2yZcBScaM",
        "outputId": "b8436e03-daf6-4efb-c1f5-c9c25ef1ee8b"
      },
      "execution_count": 4,
      "outputs": [
        {
          "output_type": "stream",
          "name": "stdout",
          "text": [
            "2*1= 2  2*2= 4  2*3= 6  2*4= 8  2*5=10  2*6=12  2*7=14  2*8=16  2*9=18  \n",
            "3*1= 3  3*2= 6  3*3= 9  3*4=12  3*5=15  3*6=18  3*7=21  3*8=24  3*9=27  \n",
            "4*1= 4  4*2= 8  4*3=12  4*4=16  4*5=20  4*6=24  4*7=28  4*8=32  4*9=36  \n",
            "5*1= 5  5*2=10  5*3=15  5*4=20  5*5=25  5*6=30  5*7=35  5*8=40  5*9=45  \n",
            "6*1= 6  6*2=12  6*3=18  6*4=24  6*5=30  6*6=36  6*7=42  6*8=48  6*9=54  \n",
            "7*1= 7  7*2=14  7*3=21  7*4=28  7*5=35  7*6=42  7*7=49  7*8=56  7*9=63  \n",
            "8*1= 8  8*2=16  8*3=24  8*4=32  8*5=40  8*6=48  8*7=56  8*8=64  8*9=72  \n",
            "9*1= 9  9*2=18  9*3=27  9*4=36  9*5=45  9*6=54  9*7=63  9*8=72  9*9=81  \n"
          ]
        }
      ]
    },
    {
      "cell_type": "markdown",
      "source": [
        "最小公倍數"
      ],
      "metadata": {
        "id": "iZVqbgM-T87G"
      }
    },
    {
      "cell_type": "code",
      "source": [
        "a = int(input(\"請輸入a的值\"))\n",
        "b = int(input(\"請輸入b的值\"))\n",
        "\n",
        "maxno = a * b\n",
        "for i in range(1,maxno+1):\n",
        "  if(i % a == 0 and i % b == 0):\n",
        "    break\n",
        "print(\"%d和%d的最小公倍數 = %d\" %(a,b,i))"
      ],
      "metadata": {
        "colab": {
          "base_uri": "https://localhost:8080/"
        },
        "id": "eZMnOHAfTJm0",
        "outputId": "9fa31865-86cd-43cb-9e7c-d5a96ddb21c0"
      },
      "execution_count": 6,
      "outputs": [
        {
          "output_type": "stream",
          "name": "stdout",
          "text": [
            "請輸入a的值4\n",
            "請輸入b的值5\n",
            "4和5的最小公倍數 = 20\n"
          ]
        }
      ]
    },
    {
      "cell_type": "markdown",
      "source": [
        "排除數列中5的倍數"
      ],
      "metadata": {
        "id": "U4zTkF7wVVAk"
      }
    },
    {
      "cell_type": "code",
      "source": [
        "n = int(input(\"請輸入正整數: \"))\n",
        "for i in range(1,n+1):\n",
        "  if i % 5 == 0:\n",
        "    continue\n",
        "  print(i,end=\" \")\n"
      ],
      "metadata": {
        "colab": {
          "base_uri": "https://localhost:8080/"
        },
        "id": "PtA8Ul8cU5YB",
        "outputId": "65d2bb75-83cf-412a-aeed-7daa7c317c97"
      },
      "execution_count": 8,
      "outputs": [
        {
          "output_type": "stream",
          "name": "stdout",
          "text": [
            "請輸入正整數: 21\n",
            "1 2 3 4 6 7 8 9 11 12 13 14 16 17 18 19 21 "
          ]
        }
      ]
    },
    {
      "cell_type": "code",
      "source": [
        "total = n = 0\n",
        "while(n <= 10):\n",
        "  total += n\n",
        "  n += 1\n",
        "print(total)"
      ],
      "metadata": {
        "colab": {
          "base_uri": "https://localhost:8080/"
        },
        "id": "MwULPyFMWcmX",
        "outputId": "1f8e766a-f36e-4012-aa45-601f5ca7e2bd"
      },
      "execution_count": 9,
      "outputs": [
        {
          "output_type": "stream",
          "name": "stdout",
          "text": [
            "55\n"
          ]
        }
      ]
    },
    {
      "cell_type": "code",
      "source": [
        "total = i = 1\n",
        "n = int(input(\"請輸入正整數n的值:\"))\n",
        "while(i <= n):\n",
        "  total *= i\n",
        "  i += 1\n",
        "print(\"%d!=%d\" % (n,total))"
      ],
      "metadata": {
        "colab": {
          "base_uri": "https://localhost:8080/"
        },
        "id": "NScFPsMFXNHA",
        "outputId": "b7ad2c2e-497d-4ec0-9fc4-bfd7953e444d"
      },
      "execution_count": 13,
      "outputs": [
        {
          "output_type": "stream",
          "name": "stdout",
          "text": [
            "請輸入正整數n的值:100\n",
            "100!=93326215443944152681699238856266700490715968264381621468592963895217599993229915608941463976156518286253697920827223758251185210916864000000000000000000000000\n"
          ]
        }
      ]
    },
    {
      "cell_type": "code",
      "source": [
        "total = i = 0\n",
        "while(i <= 50):\n",
        "  total += i\n",
        "  i += 2\n",
        "print(\"0~50的偶數和結果是\",total,sep=\"\")\n",
        "\n",
        "total = i = 1\n",
        "while(i <= 50):\n",
        "  total += i\n",
        "  i += 2\n",
        "print(\"0~50的奇數和結果是\",total-1,sep=\"\")"
      ],
      "metadata": {
        "colab": {
          "base_uri": "https://localhost:8080/"
        },
        "id": "-DRXhS5UYCR0",
        "outputId": "85dcb568-4b2a-4dd5-c5d5-22d793a01dc0"
      },
      "execution_count": 6,
      "outputs": [
        {
          "output_type": "stream",
          "name": "stdout",
          "text": [
            "0~50的偶數和結果是650\n",
            "0~50的奇數和結果是625\n"
          ]
        }
      ]
    },
    {
      "cell_type": "code",
      "source": [
        "a = int(input(\"請輸入正整數:\"))\n",
        "for i in range(a+1):\n",
        "  for j in range(2*i+1):\n",
        "    print('',end= \"\")\n",
        "  for k in range(a-i):\n",
        "    print('*',end=\"\")\n",
        "  print('\\n',end=\"\")\n",
        "\n",
        "a = int(input(\"請輸入正整數:\"))\n",
        "for i in range(a+1):\n",
        "  for j in range(2*i+1):\n",
        "    print('',end= \"\")\n",
        "  for k in range(a-i):\n",
        "    print('*',end=\"\")\n",
        "  print('\\n',end=\"\")"
      ],
      "metadata": {
        "colab": {
          "base_uri": "https://localhost:8080/"
        },
        "id": "ErIuKehOYvmC",
        "outputId": "c055c710-9002-4c5e-9163-91f279b78fc1"
      },
      "execution_count": 13,
      "outputs": [
        {
          "output_type": "stream",
          "name": "stdout",
          "text": [
            "請輸入正整數:7\n",
            "*******\n",
            "******\n",
            "*****\n",
            "****\n",
            "***\n",
            "**\n",
            "*\n",
            "\n",
            "請輸入正整數:5\n",
            "*****\n",
            "****\n",
            "***\n",
            "**\n",
            "*\n",
            "\n"
          ]
        }
      ]
    },
    {
      "cell_type": "code",
      "source": [
        "number = 0\n",
        "for i in range(1,101):\n",
        "  if i % 3 == 0 or i % 7 == 0:\n",
        "    number = number + i\n",
        "print(\"數值 1-100 中，所有是 3 或 7 倍數的數字總和 =\",number)"
      ],
      "metadata": {
        "colab": {
          "base_uri": "https://localhost:8080/"
        },
        "id": "V6VuEByHdT8i",
        "outputId": "d3a1fde0-cc78-4ff3-f072-378ad46b3076"
      },
      "execution_count": 55,
      "outputs": [
        {
          "output_type": "stream",
          "name": "stdout",
          "text": [
            "數值 1-100 中，所有是 3 或 7 倍數的數字總和 = 2208\n"
          ]
        }
      ]
    },
    {
      "cell_type": "markdown",
      "source": [
        "老師這個好難我不會"
      ],
      "metadata": {
        "id": "mLXhqXK_XxU-"
      }
    },
    {
      "cell_type": "code",
      "source": [
        "n = int(input(\"請輸入正整數:\"))\n",
        "print('%d='%n,end=\"\")\n",
        "while n>=2:\n",
        "  for i in range(2,n+1):\n",
        "    if n % i == 0:\n",
        "      n=int(n/i)\n",
        "      if n == 1:\n",
        "        print('%d'%i,end=\"\")\n",
        "      else:\n",
        "        print('%d'%i,end=\"\")\n",
        "      break\n",
        "print(x,\"的因數有\",)"
      ],
      "metadata": {
        "colab": {
          "base_uri": "https://localhost:8080/"
        },
        "id": "VsOFGyv9fHHj",
        "outputId": "8415d32a-0aed-4678-81ea-afbd9d751650"
      },
      "execution_count": 15,
      "outputs": [
        {
          "output_type": "stream",
          "name": "stdout",
          "text": [
            "請輸入正整數:11\n",
            "11=111 的因數有\n"
          ]
        }
      ]
    },
    {
      "cell_type": "code",
      "source": [
        ""
      ],
      "metadata": {
        "id": "JD1JPU8OXPV0"
      },
      "execution_count": null,
      "outputs": []
    }
  ]
}