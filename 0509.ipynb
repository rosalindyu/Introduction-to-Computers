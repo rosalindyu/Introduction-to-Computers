{
  "nbformat": 4,
  "nbformat_minor": 0,
  "metadata": {
    "colab": {
      "name": "0509.ipynb",
      "provenance": [],
      "authorship_tag": "ABX9TyNAV0Cw0zYivV/cWAWQRVj5",
      "include_colab_link": true
    },
    "kernelspec": {
      "name": "python3",
      "display_name": "Python 3"
    },
    "language_info": {
      "name": "python"
    }
  },
  "cells": [
    {
      "cell_type": "markdown",
      "metadata": {
        "id": "view-in-github",
        "colab_type": "text"
      },
      "source": [
        "<a href=\"https://colab.research.google.com/github/rosalindyu/Introduction-to-Computers/blob/main/0509.ipynb\" target=\"_parent\"><img src=\"https://colab.research.google.com/assets/colab-badge.svg\" alt=\"Open In Colab\"/></a>"
      ]
    },
    {
      "cell_type": "code",
      "execution_count": null,
      "metadata": {
        "colab": {
          "base_uri": "https://localhost:8080/"
        },
        "id": "gqUL9D1-Fu0U",
        "outputId": "0c74b049-7170-44a4-8131-f36c2fde4f1c"
      },
      "outputs": [
        {
          "output_type": "stream",
          "name": "stdout",
          "text": [
            "123\n"
          ]
        }
      ],
      "source": [
        "print(\"123\")"
      ]
    },
    {
      "cell_type": "code",
      "source": [
        "temp=float(input(\"請輸入你的體溫\"))\n",
        "if (temp>=37.5):\n",
        "  print(\"體溫過高！\")\n",
        "elif (temp>=37 and temp<37.4):\n",
        "  print(\"體溫略高！\")\n",
        "elif (temp>=34 and temp<=36.5):\n",
        "  print(\"體溫正常！\")\n",
        "else:\n",
        "  print(\"體溫異常，請重新量測！\")"
      ],
      "metadata": {
        "colab": {
          "base_uri": "https://localhost:8080/"
        },
        "id": "jiZ-Ox9mF0Wq",
        "outputId": "9034e043-47f4-4dc0-dbab-3bad07daca8f"
      },
      "execution_count": null,
      "outputs": [
        {
          "output_type": "stream",
          "name": "stdout",
          "text": [
            "請輸入你的體溫39\n",
            "體溫過高！\n"
          ]
        }
      ]
    },
    {
      "cell_type": "code",
      "source": [
        "score=int(input(\"請輸入成績\"))\n",
        "if (score>=90):\n",
        "  print(\"A\")\n",
        "elif (score>=80):\n",
        "  print(\"B\")\n",
        "elif (score>=70):\n",
        "  print(\"C\")\n",
        "elif (score>=60):\n",
        "  print(\"D\")\n",
        "else:\n",
        "  print(\"E\")"
      ],
      "metadata": {
        "colab": {
          "base_uri": "https://localhost:8080/"
        },
        "id": "o11qxfsQGrz1",
        "outputId": "07f128d2-8988-40f2-bcc3-3733ac454b64"
      },
      "execution_count": null,
      "outputs": [
        {
          "output_type": "stream",
          "name": "stdout",
          "text": [
            "請輸入成績89\n",
            "B\n"
          ]
        }
      ]
    },
    {
      "cell_type": "code",
      "source": [
        "money=int(input(\"請輸入購物金額\"))\n",
        "if (money>=10000):\n",
        "  if (money>=100000):\n",
        "    print(\"八折\",money*0.8,end=\"元\\n\")\n",
        "  elif (money>=50000):\n",
        "    print(\"八五折\",money*0.85,end=\"元\\n\")\n",
        "  elif (money>=30000):\n",
        "    print(\"九折\",money*0.9,end=\"元\\n\")\n",
        "  else:\n",
        "    print(\"九五折\",money*0.95,end=\"元\\n\")\n",
        "else:\n",
        "  print(\"沒打折\",money,end=\"元\\n\")"
      ],
      "metadata": {
        "colab": {
          "base_uri": "https://localhost:8080/"
        },
        "id": "Olo4rrNLHkW1",
        "outputId": "d7ab978c-222d-45f3-b070-efe9d425b69f"
      },
      "execution_count": null,
      "outputs": [
        {
          "output_type": "stream",
          "name": "stdout",
          "text": [
            "請輸入購物金額37890\n",
            "九折 34101.0元\n"
          ]
        }
      ]
    },
    {
      "cell_type": "code",
      "source": [
        "season=int(input(\"請輸入月份\"))\n",
        "if (season>=1 and season<=12):\n",
        "  if (season>=3 and season<=5):\n",
        "    print(season,\"月是春天！\",sep='')\n",
        "  elif (season>=6 and season<=8):\n",
        "    print(season,\"月是夏天！\",sep='')\n",
        "  elif (season>=9 and season<=11):\n",
        "    print(season,\"月是秋天！\",sep='')\n",
        "  else:\n",
        "    print(season,\"月是冬天！\",sep='')\n",
        "else:\n",
        "  print(\"月份不在範圍內！\")"
      ],
      "metadata": {
        "id": "bTJWNzkbKv1s",
        "colab": {
          "base_uri": "https://localhost:8080/"
        },
        "outputId": "791e2507-009a-446b-b49c-a31095bd6085"
      },
      "execution_count": 38,
      "outputs": [
        {
          "output_type": "stream",
          "name": "stdout",
          "text": [
            "請輸入月份10\n",
            "10月是秋天！\n"
          ]
        }
      ]
    },
    {
      "cell_type": "code",
      "source": [
        "income=int(input(\"請輸入今年收入淨額\"))\n",
        "if (income>=300000):\n",
        "  if (income>=2000000):\n",
        "    print(\"付稅金額:\",income*0.3,end=\"元\\n\")\n",
        "  elif (income>=1000000):\n",
        "    print(\"付稅金額:\",income*0.21,end=\"元\\n\")\n",
        "  elif (income>=600000):\n",
        "    print(\"付稅金額:\",income*0.13,end=\"元\\n\")\n",
        "  else:\n",
        "    print(\"付稅金額:\",income*0.06,end=\"元\\n\")\n",
        "else:\n",
        "  print(\"付稅金額:0元\")"
      ],
      "metadata": {
        "colab": {
          "base_uri": "https://localhost:8080/"
        },
        "id": "ayo713vPM71S",
        "outputId": "39afdd3d-f004-4486-9a3a-cc1fd2d9288c"
      },
      "execution_count": 43,
      "outputs": [
        {
          "output_type": "stream",
          "name": "stdout",
          "text": [
            "請輸入今年收入淨額2000000\n",
            "付稅金額: 600000.0元\n"
          ]
        }
      ]
    },
    {
      "cell_type": "code",
      "source": [
        ""
      ],
      "metadata": {
        "id": "ftDjGHtMT1M3"
      },
      "execution_count": null,
      "outputs": []
    }
  ]
}